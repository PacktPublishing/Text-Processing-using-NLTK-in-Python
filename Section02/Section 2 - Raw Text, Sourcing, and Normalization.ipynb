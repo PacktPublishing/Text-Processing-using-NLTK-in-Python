{
 "cells": [
  {
   "cell_type": "markdown",
   "metadata": {},
   "source": [
    "### The importance of string operations"
   ]
  },
  {
   "cell_type": "code",
   "execution_count": 1,
   "metadata": {
    "collapsed": true
   },
   "outputs": [],
   "source": [
    "namesList = ['Tuffy','Ali','Nysha','Tim' ]\n",
    "sentence = 'My dog sleeps on sofa'"
   ]
  },
  {
   "cell_type": "code",
   "execution_count": 2,
   "metadata": {
    "collapsed": false
   },
   "outputs": [
    {
     "name": "stdout",
     "output_type": "stream",
     "text": [
      "<class 'str'> : Tuffy;Ali;Nysha;Tim\n"
     ]
    }
   ],
   "source": [
    "names = ';'.join(namesList)\n",
    "print(type(names), ':', names)"
   ]
  },
  {
   "cell_type": "code",
   "execution_count": 3,
   "metadata": {
    "collapsed": false
   },
   "outputs": [
    {
     "name": "stdout",
     "output_type": "stream",
     "text": [
      "<class 'list'> : ['My', 'dog', 'sleeps', 'on', 'sofa']\n"
     ]
    }
   ],
   "source": [
    "wordList = sentence.split(' ')\n",
    "print((type(wordList)), ':', wordList)"
   ]
  },
  {
   "cell_type": "code",
   "execution_count": 4,
   "metadata": {
    "collapsed": false
   },
   "outputs": [
    {
     "name": "stdout",
     "output_type": "stream",
     "text": [
      "Text Additions : ganehsaganeshaganesha\n",
      "Text Multiplication : ganeshaganesha\n"
     ]
    }
   ],
   "source": [
    "additionExample = 'ganehsa' + 'ganesha' + 'ganesha'\n",
    "multiplicationExample = 'ganesha' * 2\n",
    "print('Text Additions :', additionExample)\n",
    "print('Text Multiplication :', multiplicationExample)"
   ]
  },
  {
   "cell_type": "code",
   "execution_count": 5,
   "metadata": {
    "collapsed": false
   },
   "outputs": [
    {
     "name": "stdout",
     "output_type": "stream",
     "text": [
      "y\n",
      "L\n"
     ]
    }
   ],
   "source": [
    "str = 'Python NLTK'\n",
    "print(str[1])\n",
    "print(str[-3])"
   ]
  },
  {
   "cell_type": "markdown",
   "metadata": {},
   "source": [
    "### Getting deeper with string operations"
   ]
  },
  {
   "cell_type": "code",
   "execution_count": 6,
   "metadata": {
    "collapsed": true
   },
   "outputs": [],
   "source": [
    "str = 'NLTK Dolly Python'"
   ]
  },
  {
   "cell_type": "code",
   "execution_count": 7,
   "metadata": {
    "collapsed": false
   },
   "outputs": [
    {
     "name": "stdout",
     "output_type": "stream",
     "text": [
      "Substring ends at: NLTK\n"
     ]
    }
   ],
   "source": [
    "print('Substring ends at:',str[:4])"
   ]
  },
  {
   "cell_type": "code",
   "execution_count": 8,
   "metadata": {
    "collapsed": false
   },
   "outputs": [
    {
     "name": "stdout",
     "output_type": "stream",
     "text": [
      "Substring starts from: Python\n"
     ]
    }
   ],
   "source": [
    "print('Substring starts from:',str[11:] )"
   ]
  },
  {
   "cell_type": "code",
   "execution_count": 9,
   "metadata": {
    "collapsed": false
   },
   "outputs": [
    {
     "name": "stdout",
     "output_type": "stream",
     "text": [
      "Substring : Dolly\n"
     ]
    }
   ],
   "source": [
    "print('Substring :',str[5:10])"
   ]
  },
  {
   "cell_type": "code",
   "execution_count": 10,
   "metadata": {
    "collapsed": false
   },
   "outputs": [
    {
     "name": "stdout",
     "output_type": "stream",
     "text": [
      "Substring fancy: Dolly\n"
     ]
    }
   ],
   "source": [
    "print('Substring fancy:', str[-12:-7])"
   ]
  },
  {
   "cell_type": "code",
   "execution_count": 11,
   "metadata": {
    "collapsed": false
   },
   "outputs": [
    {
     "name": "stdout",
     "output_type": "stream",
     "text": [
      "found NLTK\n"
     ]
    }
   ],
   "source": [
    "if 'NLTK' in str:\n",
    "    print('found NLTK')"
   ]
  },
  {
   "cell_type": "code",
   "execution_count": 12,
   "metadata": {
    "collapsed": false
   },
   "outputs": [
    {
     "name": "stdout",
     "output_type": "stream",
     "text": [
      "Replaced String: NLTK Dorothy Python\n"
     ]
    }
   ],
   "source": [
    "replaced = str.replace('Dolly', 'Dorothy')\n",
    "print('Replaced String:', replaced)"
   ]
  },
  {
   "cell_type": "code",
   "execution_count": 13,
   "metadata": {
    "collapsed": false
   },
   "outputs": [
    {
     "name": "stdout",
     "output_type": "stream",
     "text": [
      "Accessing each character:\n",
      "N\n",
      "L\n",
      "T\n",
      "K\n",
      " \n",
      "D\n",
      "o\n",
      "r\n",
      "o\n",
      "t\n",
      "h\n",
      "y\n",
      " \n",
      "P\n",
      "y\n",
      "t\n",
      "h\n",
      "o\n",
      "n\n"
     ]
    }
   ],
   "source": [
    "print('Accessing each character:')\n",
    "for s in replaced:\n",
    "    print(s)"
   ]
  },
  {
   "cell_type": "markdown",
   "metadata": {},
   "source": [
    "### Reading a PDF file in Python"
   ]
  },
  {
   "cell_type": "code",
   "execution_count": 14,
   "metadata": {
    "collapsed": true
   },
   "outputs": [],
   "source": [
    "import pdf"
   ]
  },
  {
   "cell_type": "code",
   "execution_count": 15,
   "metadata": {
    "collapsed": false
   },
   "outputs": [
    {
     "name": "stdout",
     "output_type": "stream",
     "text": [
      "PDF 1: \n",
      " This is a sample PDF document I am using to demonstrate in the tutorial.\n",
      " \n",
      "\n",
      "PDF 2: \n",
      " This is a sample PDF document\n",
      " \n",
      "password protected.\n",
      " \n",
      "\n"
     ]
    }
   ],
   "source": [
    "pdfFile = 'sample-one-line.pdf'\n",
    "pdfFileEncrypted = 'sample-one-line.protected.pdf'\n",
    "\n",
    "print('PDF 1: \\n',pdf.getTextPDF(pdfFile))\n",
    "print('PDF 2: \\n',pdf.getTextPDF(pdfFileEncrypted,'tuffy'))"
   ]
  },
  {
   "cell_type": "markdown",
   "metadata": {},
   "source": [
    "### Reading Word documents in Python"
   ]
  },
  {
   "cell_type": "code",
   "execution_count": 16,
   "metadata": {
    "collapsed": true
   },
   "outputs": [],
   "source": [
    "import docx\n",
    "import word"
   ]
  },
  {
   "cell_type": "code",
   "execution_count": 17,
   "metadata": {
    "collapsed": false
   },
   "outputs": [
    {
     "name": "stdout",
     "output_type": "stream",
     "text": [
      "Document in full :\n",
      " This is a sample Word document with some text in BOLD, some in ITALIC and some underlined. We are also embedding a Title down below.\n",
      "This is my TITLE.\n",
      "This is my third paragraph.\n"
     ]
    }
   ],
   "source": [
    "docName = 'sample-one-line.docx'\n",
    "print('Document in full :\\n',word.getTextWord(docName))"
   ]
  },
  {
   "cell_type": "code",
   "execution_count": 18,
   "metadata": {
    "collapsed": false
   },
   "outputs": [
    {
     "name": "stdout",
     "output_type": "stream",
     "text": [
      "Number of paragraphs : 3\n",
      "Paragraph 2: This is my TITLE.\n",
      "Paragraph 2 style: _ParagraphStyle('Title') id: 85756616\n"
     ]
    }
   ],
   "source": [
    "doc = docx.Document(docName)\n",
    "print('Number of paragraphs :',len(doc.paragraphs))\n",
    "print('Paragraph 2:',doc.paragraphs[1].text)\n",
    "print('Paragraph 2 style:',doc.paragraphs[1].style)"
   ]
  },
  {
   "cell_type": "code",
   "execution_count": 19,
   "metadata": {
    "collapsed": false
   },
   "outputs": [
    {
     "name": "stdout",
     "output_type": "stream",
     "text": [
      "Paragraph 1: This is a sample Word document with some text in BOLD, some in ITALIC and some underlined. We are also embedding a Title down below.\n",
      "Number of runs in paragraph 1: 10\n",
      "Run 0 : This is a sample \n",
      "Run 1 : Word\n",
      "Run 2 :  document with \n",
      "Run 3 : some text in BOLD\n",
      "Run 4 : , \n",
      "Run 5 : some in ITALIC\n",
      "Run 6 :  and \n",
      "Run 7 : some underlined.\n",
      "Run 8 :  We are also embedding a Title down below\n",
      "Run 9 : .\n"
     ]
    }
   ],
   "source": [
    "print('Paragraph 1:',doc.paragraphs[0].text)\n",
    "print('Number of runs in paragraph 1:',len(doc.paragraphs[0].runs))\n",
    "for idx, run in enumerate(doc.paragraphs[0].runs):\n",
    "    print('Run %s : %s' %(idx,run.text))"
   ]
  },
  {
   "cell_type": "code",
   "execution_count": 20,
   "metadata": {
    "collapsed": false
   },
   "outputs": [
    {
     "name": "stdout",
     "output_type": "stream",
     "text": [
      "is Run 0 underlined: None\n",
      "is Run 2 bold: None\n",
      "is Run 7 italic: None\n"
     ]
    }
   ],
   "source": [
    "print('is Run 0 underlined:',doc.paragraphs[0].runs[5].underline)\n",
    "print('is Run 2 bold:',doc.paragraphs[0].runs[1].bold)\n",
    "print('is Run 7 italic:',doc.paragraphs[0].runs[3].italic)"
   ]
  },
  {
   "cell_type": "markdown",
   "metadata": {},
   "source": [
    "### Taking PDF, DOCX, and plain text files and creating a user-defined corpus from them"
   ]
  },
  {
   "cell_type": "code",
   "execution_count": 21,
   "metadata": {
    "collapsed": true
   },
   "outputs": [],
   "source": [
    "import os\n",
    "import word, pdf\n",
    "from nltk.corpus.reader.plaintext import PlaintextCorpusReader"
   ]
  },
  {
   "cell_type": "code",
   "execution_count": 22,
   "metadata": {
    "collapsed": true
   },
   "outputs": [],
   "source": [
    "def getText(txtFileName):\n",
    "    file = open(txtFileName, 'r')\n",
    "    return file.read()"
   ]
  },
  {
   "cell_type": "code",
   "execution_count": 23,
   "metadata": {
    "collapsed": true
   },
   "outputs": [],
   "source": [
    "newCorpusDir = 'mycorpus/'\n",
    "if not os.path.isdir(newCorpusDir):\n",
    "    os.mkdir(newCorpusDir)"
   ]
  },
  {
   "cell_type": "code",
   "execution_count": 24,
   "metadata": {
    "collapsed": true
   },
   "outputs": [],
   "source": [
    "txt1 = getText('sample_feed.txt')\n",
    "txt2 = pdf.getTextPDF('sample-pdf.pdf')\n",
    "txt3 = word.getTextWord('sample-one-line.docx')"
   ]
  },
  {
   "cell_type": "code",
   "execution_count": 25,
   "metadata": {
    "collapsed": true
   },
   "outputs": [],
   "source": [
    "files = [txt1,txt2,txt3]\n",
    "for idx, f in enumerate(files):\n",
    "    with open(newCorpusDir+str(idx)+'.txt', 'w') as fout:\n",
    "        fout.write(f)"
   ]
  },
  {
   "cell_type": "code",
   "execution_count": 26,
   "metadata": {
    "collapsed": true
   },
   "outputs": [],
   "source": [
    "newCorpus = PlaintextCorpusReader(newCorpusDir, '.*')"
   ]
  },
  {
   "cell_type": "code",
   "execution_count": 27,
   "metadata": {
    "collapsed": false
   },
   "outputs": [
    {
     "name": "stdout",
     "output_type": "stream",
     "text": [
      "['Five', 'months', '.', 'That', \"'\", 's', 'how', ...]\n",
      "[['A', 'generic', 'NLP'], ['(', 'Natural', 'Language', 'Processing', ')', 'toolset'], ...]\n",
      "[[['Five', 'months', '.']], [['That', \"'\", 's', 'how', 'long', 'it', \"'\", 's', 'been', 'since', 'Mass', 'Effect', ':', 'Andromeda', 'launched', ',', 'and', 'that', \"'\", 's', 'how', 'long', 'it', 'took', 'BioWare', 'Montreal', 'to', 'admit', 'that', 'nothing', 'more', 'can', 'be', 'done', 'with', 'the', 'ailing', 'game', \"'\", 's', 'story', 'mode', '.'], ['Technically', ',', 'it', 'wasn', \"'\", 't', 'even', 'a', 'full', 'five', 'months', ',', 'as', 'Andromeda', 'launched', 'on', 'March', '21', '.']], ...]\n"
     ]
    }
   ],
   "source": [
    "print(newCorpus.words())\n",
    "print(newCorpus.sents(newCorpus.fileids()[1]))\n",
    "print(newCorpus.paras(newCorpus.fileids()[0]))"
   ]
  },
  {
   "cell_type": "markdown",
   "metadata": {},
   "source": [
    "### Read contents from an RSS feed"
   ]
  },
  {
   "cell_type": "code",
   "execution_count": 28,
   "metadata": {
    "collapsed": true
   },
   "outputs": [],
   "source": [
    "import feedparser"
   ]
  },
  {
   "cell_type": "code",
   "execution_count": 29,
   "metadata": {
    "collapsed": true
   },
   "outputs": [],
   "source": [
    "myFeed = feedparser.parse(\"http://feeds.mashable.com/Mashable\")"
   ]
  },
  {
   "cell_type": "code",
   "execution_count": 30,
   "metadata": {
    "collapsed": false
   },
   "outputs": [
    {
     "name": "stdout",
     "output_type": "stream",
     "text": [
      "Feed Title : Mashable\n",
      "Number of posts : 30\n"
     ]
    }
   ],
   "source": [
    "print('Feed Title :', myFeed['feed']['title'])\n",
    "print('Number of posts :', len(myFeed.entries))"
   ]
  },
  {
   "cell_type": "code",
   "execution_count": 31,
   "metadata": {
    "collapsed": false
   },
   "outputs": [
    {
     "name": "stdout",
     "output_type": "stream",
     "text": [
      "Post Title : Swiss Olympic skier casually rides up escalator with one arm on his day off\n"
     ]
    }
   ],
   "source": [
    "post = myFeed.entries[0]\n",
    "print('Post Title :',post.title)"
   ]
  },
  {
   "cell_type": "code",
   "execution_count": 32,
   "metadata": {
    "collapsed": false
   },
   "outputs": [
    {
     "name": "stdout",
     "output_type": "stream",
     "text": [
      "Raw content :\n",
      " <img alt=\"\" src=\"https://i.amz.mshcdn.com/50hNf3oLIIJgEMfQ137uGXhzzd8=/575x323/filters:quality(90)/https%3A%2F%2Fblueprint-api-production.s3.amazonaws.com%2Fuploads%2Fstory%2Fthumbnail%2F68784%2F380df881-5652-40a8-a56c-ba87e6bf08ed.jpg\" /><div style=\"float: right; width: 50px;\"><a href=\"https://twitter.com/share?via=Mashable&text=Swiss+Olympic+skier+casually+rides+up+escalator+with+one+arm+on+his+day+off&url=https%3A%2F%2Fmashable.com%2F2018%2F02%2F13%2Ffabian-bosch-escalator-prank%2F\" style=\"margin: 10px;\"><img alt=\"Twitter\" border=\"0\" src=\"https://a.amz.mshcdn.com/assets/feed-tw-e71baf64f2ec58d01cd28f4e9ef6b2ce0370b42fbd965068e9e7b58be198fb13.jpg\" /></a><a href=\"https://www.facebook.com/sharer.php?u=https%3A%2F%2Fmashable.com%2F2018%2F02%2F13%2Ffabian-bosch-escalator-prank%2F&src=sp\" style=\"margin: 10px;\"><img alt=\"Facebook\" border=\"0\" src=\"https://a.amz.mshcdn.com/assets/feed-fb-8e3bd31e201ea65385a524ef67519d031e6851071807055648790d6a4ca77139.jpg\" /></a></div><p>Competing at an Olympics is a serious affair, not that it seems to worry Fabian B&#246;sch too much.</p>\n",
      "<p>The 20-year-old Swiss skier isn't due to compete until next Sunday in the men's Slopestyle event, so in the meantime he's having a bit of fun &#8212; or you could call it a spot of training.</p>\n",
      "<div><p>SEE ALSO: <a href=\"https://mashable.com/2018/02/12/chloe-kim-winter-olympics-gold-medal/\">17-year-old Chloe Kim is the hangry Olympic champion we need right now</a></p></div>\n",
      "<p>Here's B&#246;sch casually holding onto the rail of an escalator, except he's not on the steps, instead hanging off the side. The dude has a strong right arm.</p>\n",
      "<div>\n",
      "<div><blockquote><div>\n",
      "<div><div></div></div>\n",
      "<p><a href=\"https://www.instagram.com/p/BfFq2VfAcCj/\" style=\" color:#c9c8cd; font-family:Arial,sans-serif; font-size:14px; font-style:normal; font-weight:normal; line-height:17px; text-decoration:none;\" target=\"_blank\">A post shared by Fabian B&#246;sch (@buhsch)</a> on <time style=\" font-family:Arial,sans-serif; font-size:14px; line-height:17px;\" datetime=\"2018-02-12T07:54:50+00:00\">Feb 11, 2018 at 11:54pm PST</time></p>\n",
      "</div></blockquote></div>\n",
      "<script></script>\n",
      "</div>\n",
      "<p>It's not the only time B&#246;sch has pulled off a stunt for Instagram, even if the risk of injury would probably send any coach into a conniption. <a href=\"https://mashable.com/2018/02/13/fabian-bosch-escalator-prank/\">Read more...</a></p>More about <a href=\"https://mashable.com/category/olympics/?utm_campaign=Mash-Prod-RSS-Feedburner-All-Partial&amp;utm_cid=Mash-Prod-RSS-Feedburner-All-Partial\">Olympics</a>, <a href=\"https://mashable.com/category/pranks/?utm_campaign=Mash-Prod-RSS-Feedburner-All-Partial&amp;utm_cid=Mash-Prod-RSS-Feedburner-All-Partial\">Pranks</a>, <a href=\"https://mashable.com/culture/?utm_campaign=Mash-Prod-RSS-Feedburner-All-Partial&amp;utm_cid=Mash-Prod-RSS-Feedburner-All-Partial\">Culture</a>, <a href=\"https://mashable.com/category/winter-olympics/?utm_campaign=Mash-Prod-RSS-Feedburner-All-Partial&amp;utm_cid=Mash-Prod-RSS-Feedburner-All-Partial\">Winter Olympics</a>, and <a href=\"https://mashable.com/culture/?utm_campaign=Mash-Prod-RSS-Feedburner-All-Partial&amp;utm_cid=Mash-Prod-RSS-Feedburner-All-Partial\">Culture</a><img src=\"http://feeds.feedburner.com/~r/Mashable/~4/ul1EacABiFo\" height=\"1\" width=\"1\" alt=\"\"/>\n"
     ]
    }
   ],
   "source": [
    "content = post.content[0].value\n",
    "print('Raw content :\\n',content)"
   ]
  },
  {
   "cell_type": "markdown",
   "metadata": {},
   "source": [
    "###  HTML parsing using BeautifulSoup"
   ]
  },
  {
   "cell_type": "code",
   "execution_count": 33,
   "metadata": {
    "collapsed": true
   },
   "outputs": [],
   "source": [
    "from bs4 import BeautifulSoup"
   ]
  },
  {
   "cell_type": "code",
   "execution_count": 34,
   "metadata": {
    "collapsed": true
   },
   "outputs": [],
   "source": [
    "html_doc = open('sample-html.html', 'r').read()\n",
    "soup = BeautifulSoup(html_doc, 'html.parser')"
   ]
  },
  {
   "cell_type": "code",
   "execution_count": 35,
   "metadata": {
    "collapsed": false
   },
   "outputs": [
    {
     "name": "stdout",
     "output_type": "stream",
     "text": [
      "Full text HTML Stripped:\n",
      "\n",
      "\n",
      "\n",
      "Sample Web Page\n",
      "\n",
      "\n",
      "\n",
      "Main heading\n",
      "This is a very simple HTML document\n",
      "Improve your image by including an image. \n",
      "\n",
      "Add a link to your favorite Web site.\n",
      " This is a new sentence without a paragraph break, in bold italics.\n",
      "\n",
      "\n"
     ]
    }
   ],
   "source": [
    "print('Full text HTML Stripped:')\n",
    "print(soup.get_text())"
   ]
  },
  {
   "cell_type": "code",
   "execution_count": 36,
   "metadata": {
    "collapsed": false
   },
   "outputs": [
    {
     "name": "stdout",
     "output_type": "stream",
     "text": [
      "Accessing the <title> tag : <title>Sample Web Page</title>\n"
     ]
    }
   ],
   "source": [
    "print('Accessing the <title> tag :', end=' ')\n",
    "print(soup.title)"
   ]
  },
  {
   "cell_type": "code",
   "execution_count": 37,
   "metadata": {
    "collapsed": false
   },
   "outputs": [
    {
     "name": "stdout",
     "output_type": "stream",
     "text": [
      "Accessing the text of <H1> tag : Main heading\n"
     ]
    }
   ],
   "source": [
    "print('Accessing the text of <H1> tag :', end=' ')\n",
    "print(soup.h1.string)"
   ]
  },
  {
   "cell_type": "code",
   "execution_count": 38,
   "metadata": {
    "collapsed": false
   },
   "outputs": [
    {
     "name": "stdout",
     "output_type": "stream",
     "text": [
      "Accessing property of <img> tag : A Great HTML Resource\n"
     ]
    }
   ],
   "source": [
    "print('Accessing property of <img> tag :', end=' ')\n",
    "print(soup.img['alt'])"
   ]
  },
  {
   "cell_type": "code",
   "execution_count": 39,
   "metadata": {
    "collapsed": false
   },
   "outputs": [
    {
     "name": "stdout",
     "output_type": "stream",
     "text": [
      "\n",
      "Accessing all occurences of the <p> tag :\n",
      "This is a very simple HTML document\n",
      "Improve your image by including an image. \n",
      "None\n"
     ]
    }
   ],
   "source": [
    "print('\\nAccessing all occurences of the <p> tag :')\n",
    "for p in soup.find_all('p'):\n",
    "    print(p.string)"
   ]
  },
  {
   "cell_type": "code",
   "execution_count": null,
   "metadata": {
    "collapsed": true
   },
   "outputs": [],
   "source": []
  }
 ],
 "metadata": {
  "kernelspec": {
   "display_name": "Python 3",
   "language": "python",
   "name": "python3"
  },
  "language_info": {
   "codemirror_mode": {
    "name": "ipython",
    "version": 3
   },
   "file_extension": ".py",
   "mimetype": "text/x-python",
   "name": "python",
   "nbconvert_exporter": "python",
   "pygments_lexer": "ipython3",
   "version": "3.5.0"
  }
 },
 "nbformat": 4,
 "nbformat_minor": 2
}
